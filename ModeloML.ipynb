{
 "cells": [
  {
   "cell_type": "code",
   "execution_count": 1,
   "metadata": {},
   "outputs": [],
   "source": [
    "import numpy as np\n",
    "import matplotlib.pyplot as plt\n",
    "import sys\n",
    "from surprise import Dataset\n",
    "from surprise import Reader\n",
    "from surprise.model_selection import train_test_split\n",
    "import pandas as pd\n",
    "from surprise import SVD\n",
    "import streamlit as st\n",
    "import gc #garbage collector"
   ]
  },
  {
   "cell_type": "code",
   "execution_count": 2,
   "metadata": {},
   "outputs": [
    {
     "name": "stdout",
     "output_type": "stream",
     "text": [
      "<class 'pandas.core.frame.DataFrame'>\n",
      "Int64Index: 11024289 entries, 0 to 11024288\n",
      "Data columns (total 18 columns):\n",
      " #   Column         Dtype         \n",
      "---  ------         -----         \n",
      " 0   show_id        object        \n",
      " 1   type           object        \n",
      " 2   title          object        \n",
      " 3   director       object        \n",
      " 4   cast           object        \n",
      " 5   country        object        \n",
      " 6   date_added     object        \n",
      " 7   release_year   object        \n",
      " 8   rating         object        \n",
      " 9   listed_in      object        \n",
      " 10  id             object        \n",
      " 11  platform       object        \n",
      " 12  duration_int   int32         \n",
      " 13  duration_type  object        \n",
      " 14  userId         int64         \n",
      " 15  score          float64       \n",
      " 16  date           datetime64[ns]\n",
      " 17  score_mean     float64       \n",
      "dtypes: datetime64[ns](1), float64(2), int32(1), int64(1), object(13)\n",
      "memory usage: 1.5+ GB\n"
     ]
    }
   ],
   "source": [
    "df = pd.read_parquet('archivoparquetsinnulos.parquet')\n",
    "df.info()"
   ]
  },
  {
   "cell_type": "code",
   "execution_count": 3,
   "metadata": {},
   "outputs": [
    {
     "data": {
      "text/html": [
       "<div>\n",
       "<style scoped>\n",
       "    .dataframe tbody tr th:only-of-type {\n",
       "        vertical-align: middle;\n",
       "    }\n",
       "\n",
       "    .dataframe tbody tr th {\n",
       "        vertical-align: top;\n",
       "    }\n",
       "\n",
       "    .dataframe thead th {\n",
       "        text-align: right;\n",
       "    }\n",
       "</style>\n",
       "<table border=\"1\" class=\"dataframe\">\n",
       "  <thead>\n",
       "    <tr style=\"text-align: right;\">\n",
       "      <th></th>\n",
       "      <th>show_id</th>\n",
       "      <th>type</th>\n",
       "      <th>title</th>\n",
       "      <th>director</th>\n",
       "      <th>cast</th>\n",
       "      <th>country</th>\n",
       "      <th>date_added</th>\n",
       "      <th>release_year</th>\n",
       "      <th>rating</th>\n",
       "      <th>listed_in</th>\n",
       "      <th>id</th>\n",
       "      <th>platform</th>\n",
       "      <th>duration_int</th>\n",
       "      <th>duration_type</th>\n",
       "      <th>userId</th>\n",
       "      <th>score</th>\n",
       "      <th>date</th>\n",
       "      <th>score_mean</th>\n",
       "    </tr>\n",
       "  </thead>\n",
       "  <tbody>\n",
       "    <tr>\n",
       "      <th>0</th>\n",
       "      <td>s1</td>\n",
       "      <td>movie</td>\n",
       "      <td>the grand seduction</td>\n",
       "      <td>don mckellar</td>\n",
       "      <td>brendan gleeson, taylor kitsch, gordon pinsent</td>\n",
       "      <td>canada</td>\n",
       "      <td>2021-03-30 00:00:00</td>\n",
       "      <td>2014</td>\n",
       "      <td>g</td>\n",
       "      <td>comedy, drama</td>\n",
       "      <td>as1</td>\n",
       "      <td>amazon</td>\n",
       "      <td>113</td>\n",
       "      <td>min</td>\n",
       "      <td>543</td>\n",
       "      <td>5.0</td>\n",
       "      <td>2003-07-30</td>\n",
       "      <td>3.47</td>\n",
       "    </tr>\n",
       "    <tr>\n",
       "      <th>1</th>\n",
       "      <td>s1</td>\n",
       "      <td>movie</td>\n",
       "      <td>the grand seduction</td>\n",
       "      <td>don mckellar</td>\n",
       "      <td>brendan gleeson, taylor kitsch, gordon pinsent</td>\n",
       "      <td>canada</td>\n",
       "      <td>2021-03-30 00:00:00</td>\n",
       "      <td>2014</td>\n",
       "      <td>g</td>\n",
       "      <td>comedy, drama</td>\n",
       "      <td>as1</td>\n",
       "      <td>amazon</td>\n",
       "      <td>113</td>\n",
       "      <td>min</td>\n",
       "      <td>595</td>\n",
       "      <td>3.0</td>\n",
       "      <td>1996-08-13</td>\n",
       "      <td>3.47</td>\n",
       "    </tr>\n",
       "    <tr>\n",
       "      <th>2</th>\n",
       "      <td>s1</td>\n",
       "      <td>movie</td>\n",
       "      <td>the grand seduction</td>\n",
       "      <td>don mckellar</td>\n",
       "      <td>brendan gleeson, taylor kitsch, gordon pinsent</td>\n",
       "      <td>canada</td>\n",
       "      <td>2021-03-30 00:00:00</td>\n",
       "      <td>2014</td>\n",
       "      <td>g</td>\n",
       "      <td>comedy, drama</td>\n",
       "      <td>as1</td>\n",
       "      <td>amazon</td>\n",
       "      <td>113</td>\n",
       "      <td>min</td>\n",
       "      <td>611</td>\n",
       "      <td>3.0</td>\n",
       "      <td>2001-01-03</td>\n",
       "      <td>3.47</td>\n",
       "    </tr>\n",
       "    <tr>\n",
       "      <th>3</th>\n",
       "      <td>s1</td>\n",
       "      <td>movie</td>\n",
       "      <td>the grand seduction</td>\n",
       "      <td>don mckellar</td>\n",
       "      <td>brendan gleeson, taylor kitsch, gordon pinsent</td>\n",
       "      <td>canada</td>\n",
       "      <td>2021-03-30 00:00:00</td>\n",
       "      <td>2014</td>\n",
       "      <td>g</td>\n",
       "      <td>comedy, drama</td>\n",
       "      <td>as1</td>\n",
       "      <td>amazon</td>\n",
       "      <td>113</td>\n",
       "      <td>min</td>\n",
       "      <td>2523</td>\n",
       "      <td>3.5</td>\n",
       "      <td>2012-06-25</td>\n",
       "      <td>3.47</td>\n",
       "    </tr>\n",
       "    <tr>\n",
       "      <th>4</th>\n",
       "      <td>s1</td>\n",
       "      <td>movie</td>\n",
       "      <td>the grand seduction</td>\n",
       "      <td>don mckellar</td>\n",
       "      <td>brendan gleeson, taylor kitsch, gordon pinsent</td>\n",
       "      <td>canada</td>\n",
       "      <td>2021-03-30 00:00:00</td>\n",
       "      <td>2014</td>\n",
       "      <td>g</td>\n",
       "      <td>comedy, drama</td>\n",
       "      <td>as1</td>\n",
       "      <td>amazon</td>\n",
       "      <td>113</td>\n",
       "      <td>min</td>\n",
       "      <td>3082</td>\n",
       "      <td>4.0</td>\n",
       "      <td>2000-03-30</td>\n",
       "      <td>3.47</td>\n",
       "    </tr>\n",
       "  </tbody>\n",
       "</table>\n",
       "</div>"
      ],
      "text/plain": [
       "  show_id   type                title      director  \\\n",
       "0      s1  movie  the grand seduction  don mckellar   \n",
       "1      s1  movie  the grand seduction  don mckellar   \n",
       "2      s1  movie  the grand seduction  don mckellar   \n",
       "3      s1  movie  the grand seduction  don mckellar   \n",
       "4      s1  movie  the grand seduction  don mckellar   \n",
       "\n",
       "                                             cast country  \\\n",
       "0  brendan gleeson, taylor kitsch, gordon pinsent  canada   \n",
       "1  brendan gleeson, taylor kitsch, gordon pinsent  canada   \n",
       "2  brendan gleeson, taylor kitsch, gordon pinsent  canada   \n",
       "3  brendan gleeson, taylor kitsch, gordon pinsent  canada   \n",
       "4  brendan gleeson, taylor kitsch, gordon pinsent  canada   \n",
       "\n",
       "            date_added release_year rating      listed_in   id platform  \\\n",
       "0  2021-03-30 00:00:00         2014      g  comedy, drama  as1   amazon   \n",
       "1  2021-03-30 00:00:00         2014      g  comedy, drama  as1   amazon   \n",
       "2  2021-03-30 00:00:00         2014      g  comedy, drama  as1   amazon   \n",
       "3  2021-03-30 00:00:00         2014      g  comedy, drama  as1   amazon   \n",
       "4  2021-03-30 00:00:00         2014      g  comedy, drama  as1   amazon   \n",
       "\n",
       "   duration_int duration_type  userId  score       date  score_mean  \n",
       "0           113           min     543    5.0 2003-07-30        3.47  \n",
       "1           113           min     595    3.0 1996-08-13        3.47  \n",
       "2           113           min     611    3.0 2001-01-03        3.47  \n",
       "3           113           min    2523    3.5 2012-06-25        3.47  \n",
       "4           113           min    3082    4.0 2000-03-30        3.47  "
      ]
     },
     "execution_count": 3,
     "metadata": {},
     "output_type": "execute_result"
    }
   ],
   "source": [
    "df.head()"
   ]
  },
  {
   "cell_type": "code",
   "execution_count": 4,
   "metadata": {},
   "outputs": [
    {
     "data": {
      "text/html": [
       "<div>\n",
       "<style scoped>\n",
       "    .dataframe tbody tr th:only-of-type {\n",
       "        vertical-align: middle;\n",
       "    }\n",
       "\n",
       "    .dataframe tbody tr th {\n",
       "        vertical-align: top;\n",
       "    }\n",
       "\n",
       "    .dataframe thead th {\n",
       "        text-align: right;\n",
       "    }\n",
       "</style>\n",
       "<table border=\"1\" class=\"dataframe\">\n",
       "  <thead>\n",
       "    <tr style=\"text-align: right;\">\n",
       "      <th></th>\n",
       "      <th>id</th>\n",
       "      <th>userId</th>\n",
       "      <th>score</th>\n",
       "      <th>title</th>\n",
       "    </tr>\n",
       "  </thead>\n",
       "  <tbody>\n",
       "    <tr>\n",
       "      <th>0</th>\n",
       "      <td>as1</td>\n",
       "      <td>543</td>\n",
       "      <td>5.0</td>\n",
       "      <td>the grand seduction</td>\n",
       "    </tr>\n",
       "    <tr>\n",
       "      <th>1</th>\n",
       "      <td>as1</td>\n",
       "      <td>595</td>\n",
       "      <td>3.0</td>\n",
       "      <td>the grand seduction</td>\n",
       "    </tr>\n",
       "    <tr>\n",
       "      <th>2</th>\n",
       "      <td>as1</td>\n",
       "      <td>611</td>\n",
       "      <td>3.0</td>\n",
       "      <td>the grand seduction</td>\n",
       "    </tr>\n",
       "    <tr>\n",
       "      <th>3</th>\n",
       "      <td>as1</td>\n",
       "      <td>2523</td>\n",
       "      <td>3.5</td>\n",
       "      <td>the grand seduction</td>\n",
       "    </tr>\n",
       "    <tr>\n",
       "      <th>4</th>\n",
       "      <td>as1</td>\n",
       "      <td>3082</td>\n",
       "      <td>4.0</td>\n",
       "      <td>the grand seduction</td>\n",
       "    </tr>\n",
       "  </tbody>\n",
       "</table>\n",
       "</div>"
      ],
      "text/plain": [
       "    id  userId  score                title\n",
       "0  as1     543    5.0  the grand seduction\n",
       "1  as1     595    3.0  the grand seduction\n",
       "2  as1     611    3.0  the grand seduction\n",
       "3  as1    2523    3.5  the grand seduction\n",
       "4  as1    3082    4.0  the grand seduction"
      ]
     },
     "execution_count": 4,
     "metadata": {},
     "output_type": "execute_result"
    }
   ],
   "source": [
    "df2 = df.loc[:, [\"id\", \"userId\", \"score\",\"title\"]]\n",
    "df2.head()"
   ]
  },
  {
   "cell_type": "code",
   "execution_count": null,
   "metadata": {},
   "outputs": [],
   "source": []
  },
  {
   "cell_type": "code",
   "execution_count": 5,
   "metadata": {},
   "outputs": [
    {
     "data": {
      "text/html": [
       "<div>\n",
       "<style scoped>\n",
       "    .dataframe tbody tr th:only-of-type {\n",
       "        vertical-align: middle;\n",
       "    }\n",
       "\n",
       "    .dataframe tbody tr th {\n",
       "        vertical-align: top;\n",
       "    }\n",
       "\n",
       "    .dataframe thead th {\n",
       "        text-align: right;\n",
       "    }\n",
       "</style>\n",
       "<table border=\"1\" class=\"dataframe\">\n",
       "  <thead>\n",
       "    <tr style=\"text-align: right;\">\n",
       "      <th></th>\n",
       "      <th>id</th>\n",
       "      <th>userId</th>\n",
       "      <th>score</th>\n",
       "      <th>title</th>\n",
       "      <th>id_factorized</th>\n",
       "    </tr>\n",
       "  </thead>\n",
       "  <tbody>\n",
       "    <tr>\n",
       "      <th>0</th>\n",
       "      <td>as1</td>\n",
       "      <td>543</td>\n",
       "      <td>5.0</td>\n",
       "      <td>the grand seduction</td>\n",
       "      <td>0</td>\n",
       "    </tr>\n",
       "    <tr>\n",
       "      <th>1</th>\n",
       "      <td>as1</td>\n",
       "      <td>595</td>\n",
       "      <td>3.0</td>\n",
       "      <td>the grand seduction</td>\n",
       "      <td>0</td>\n",
       "    </tr>\n",
       "    <tr>\n",
       "      <th>2</th>\n",
       "      <td>as1</td>\n",
       "      <td>611</td>\n",
       "      <td>3.0</td>\n",
       "      <td>the grand seduction</td>\n",
       "      <td>0</td>\n",
       "    </tr>\n",
       "    <tr>\n",
       "      <th>3</th>\n",
       "      <td>as1</td>\n",
       "      <td>2523</td>\n",
       "      <td>3.5</td>\n",
       "      <td>the grand seduction</td>\n",
       "      <td>0</td>\n",
       "    </tr>\n",
       "    <tr>\n",
       "      <th>4</th>\n",
       "      <td>as1</td>\n",
       "      <td>3082</td>\n",
       "      <td>4.0</td>\n",
       "      <td>the grand seduction</td>\n",
       "      <td>0</td>\n",
       "    </tr>\n",
       "  </tbody>\n",
       "</table>\n",
       "</div>"
      ],
      "text/plain": [
       "    id  userId  score                title  id_factorized\n",
       "0  as1     543    5.0  the grand seduction              0\n",
       "1  as1     595    3.0  the grand seduction              0\n",
       "2  as1     611    3.0  the grand seduction              0\n",
       "3  as1    2523    3.5  the grand seduction              0\n",
       "4  as1    3082    4.0  the grand seduction              0"
      ]
     },
     "execution_count": 5,
     "metadata": {},
     "output_type": "execute_result"
    }
   ],
   "source": [
    "# Utilizar factorize para asignar valores numéricos a cada valor único de ID\n",
    "df2['id_factorized'] = pd.factorize(df['id'])[0]\n",
    "df2.head()"
   ]
  },
  {
   "cell_type": "code",
   "execution_count": 6,
   "metadata": {},
   "outputs": [],
   "source": [
    "df1 = df2.loc[:,['userId','score','id_factorized']]\n",
    "df_title = df2.loc[:,['id_factorized','title']]"
   ]
  },
  {
   "cell_type": "code",
   "execution_count": 7,
   "metadata": {},
   "outputs": [
    {
     "data": {
      "text/html": [
       "<div>\n",
       "<style scoped>\n",
       "    .dataframe tbody tr th:only-of-type {\n",
       "        vertical-align: middle;\n",
       "    }\n",
       "\n",
       "    .dataframe tbody tr th {\n",
       "        vertical-align: top;\n",
       "    }\n",
       "\n",
       "    .dataframe thead th {\n",
       "        text-align: right;\n",
       "    }\n",
       "</style>\n",
       "<table border=\"1\" class=\"dataframe\">\n",
       "  <thead>\n",
       "    <tr style=\"text-align: right;\">\n",
       "      <th></th>\n",
       "      <th>id_factorized</th>\n",
       "      <th>title</th>\n",
       "    </tr>\n",
       "  </thead>\n",
       "  <tbody>\n",
       "    <tr>\n",
       "      <th>0</th>\n",
       "      <td>0</td>\n",
       "      <td>the grand seduction</td>\n",
       "    </tr>\n",
       "    <tr>\n",
       "      <th>502</th>\n",
       "      <td>1</td>\n",
       "      <td>take care good night</td>\n",
       "    </tr>\n",
       "    <tr>\n",
       "      <th>995</th>\n",
       "      <td>2</td>\n",
       "      <td>secrets of deception</td>\n",
       "    </tr>\n",
       "    <tr>\n",
       "      <th>1417</th>\n",
       "      <td>3</td>\n",
       "      <td>pink: staying true</td>\n",
       "    </tr>\n",
       "    <tr>\n",
       "      <th>1890</th>\n",
       "      <td>4</td>\n",
       "      <td>monster maker</td>\n",
       "    </tr>\n",
       "    <tr>\n",
       "      <th>2366</th>\n",
       "      <td>5</td>\n",
       "      <td>living with dinosaurs</td>\n",
       "    </tr>\n",
       "    <tr>\n",
       "      <th>2828</th>\n",
       "      <td>6</td>\n",
       "      <td>hired gun</td>\n",
       "    </tr>\n",
       "    <tr>\n",
       "      <th>3354</th>\n",
       "      <td>7</td>\n",
       "      <td>grease live!</td>\n",
       "    </tr>\n",
       "    <tr>\n",
       "      <th>3875</th>\n",
       "      <td>8</td>\n",
       "      <td>global meltdown</td>\n",
       "    </tr>\n",
       "    <tr>\n",
       "      <th>4369</th>\n",
       "      <td>9</td>\n",
       "      <td>david's mother</td>\n",
       "    </tr>\n",
       "  </tbody>\n",
       "</table>\n",
       "</div>"
      ],
      "text/plain": [
       "      id_factorized                  title\n",
       "0                 0    the grand seduction\n",
       "502               1   take care good night\n",
       "995               2   secrets of deception\n",
       "1417              3     pink: staying true\n",
       "1890              4          monster maker\n",
       "2366              5  living with dinosaurs\n",
       "2828              6              hired gun\n",
       "3354              7           grease live!\n",
       "3875              8        global meltdown\n",
       "4369              9         david's mother"
      ]
     },
     "execution_count": 7,
     "metadata": {},
     "output_type": "execute_result"
    }
   ],
   "source": [
    "df_title.drop_duplicates(inplace=True)\n",
    "df_title.head(10)"
   ]
  },
  {
   "cell_type": "code",
   "execution_count": 8,
   "metadata": {},
   "outputs": [
    {
     "name": "stdout",
     "output_type": "stream",
     "text": [
      "forest fairies\n"
     ]
    }
   ],
   "source": [
    "movie_id = 10\n",
    "titulo = df_title.loc[df_title['id_factorized'] == movie_id, 'title'].iloc[0]\n",
    "print(titulo)"
   ]
  },
  {
   "cell_type": "code",
   "execution_count": 9,
   "metadata": {},
   "outputs": [
    {
     "name": "stdout",
     "output_type": "stream",
     "text": [
      "<class 'pandas.core.frame.DataFrame'>\n",
      "Int64Index: 11024289 entries, 0 to 11024288\n",
      "Data columns (total 3 columns):\n",
      " #   Column         Dtype  \n",
      "---  ------         -----  \n",
      " 0   userId         int64  \n",
      " 1   score          float64\n",
      " 2   id_factorized  int64  \n",
      "dtypes: float64(1), int64(2)\n",
      "memory usage: 336.4 MB\n"
     ]
    }
   ],
   "source": [
    "df1.info()"
   ]
  },
  {
   "cell_type": "code",
   "execution_count": 10,
   "metadata": {},
   "outputs": [
    {
     "data": {
      "text/html": [
       "<div>\n",
       "<style scoped>\n",
       "    .dataframe tbody tr th:only-of-type {\n",
       "        vertical-align: middle;\n",
       "    }\n",
       "\n",
       "    .dataframe tbody tr th {\n",
       "        vertical-align: top;\n",
       "    }\n",
       "\n",
       "    .dataframe thead th {\n",
       "        text-align: right;\n",
       "    }\n",
       "</style>\n",
       "<table border=\"1\" class=\"dataframe\">\n",
       "  <thead>\n",
       "    <tr style=\"text-align: right;\">\n",
       "      <th></th>\n",
       "      <th>userId</th>\n",
       "      <th>score</th>\n",
       "      <th>id_factorized</th>\n",
       "    </tr>\n",
       "  </thead>\n",
       "  <tbody>\n",
       "    <tr>\n",
       "      <th>0</th>\n",
       "      <td>543</td>\n",
       "      <td>5.0</td>\n",
       "      <td>0</td>\n",
       "    </tr>\n",
       "    <tr>\n",
       "      <th>1</th>\n",
       "      <td>595</td>\n",
       "      <td>3.0</td>\n",
       "      <td>0</td>\n",
       "    </tr>\n",
       "    <tr>\n",
       "      <th>2</th>\n",
       "      <td>611</td>\n",
       "      <td>3.0</td>\n",
       "      <td>0</td>\n",
       "    </tr>\n",
       "    <tr>\n",
       "      <th>3</th>\n",
       "      <td>2523</td>\n",
       "      <td>3.5</td>\n",
       "      <td>0</td>\n",
       "    </tr>\n",
       "    <tr>\n",
       "      <th>4</th>\n",
       "      <td>3082</td>\n",
       "      <td>4.0</td>\n",
       "      <td>0</td>\n",
       "    </tr>\n",
       "    <tr>\n",
       "      <th>...</th>\n",
       "      <td>...</td>\n",
       "      <td>...</td>\n",
       "      <td>...</td>\n",
       "    </tr>\n",
       "    <tr>\n",
       "      <th>11024284</th>\n",
       "      <td>122699</td>\n",
       "      <td>4.0</td>\n",
       "      <td>22997</td>\n",
       "    </tr>\n",
       "    <tr>\n",
       "      <th>11024285</th>\n",
       "      <td>122869</td>\n",
       "      <td>4.0</td>\n",
       "      <td>22997</td>\n",
       "    </tr>\n",
       "    <tr>\n",
       "      <th>11024286</th>\n",
       "      <td>123708</td>\n",
       "      <td>3.0</td>\n",
       "      <td>22997</td>\n",
       "    </tr>\n",
       "    <tr>\n",
       "      <th>11024287</th>\n",
       "      <td>123841</td>\n",
       "      <td>4.0</td>\n",
       "      <td>22997</td>\n",
       "    </tr>\n",
       "    <tr>\n",
       "      <th>11024288</th>\n",
       "      <td>124184</td>\n",
       "      <td>3.0</td>\n",
       "      <td>22997</td>\n",
       "    </tr>\n",
       "  </tbody>\n",
       "</table>\n",
       "<p>11024289 rows × 3 columns</p>\n",
       "</div>"
      ],
      "text/plain": [
       "          userId  score  id_factorized\n",
       "0            543    5.0              0\n",
       "1            595    3.0              0\n",
       "2            611    3.0              0\n",
       "3           2523    3.5              0\n",
       "4           3082    4.0              0\n",
       "...          ...    ...            ...\n",
       "11024284  122699    4.0          22997\n",
       "11024285  122869    4.0          22997\n",
       "11024286  123708    3.0          22997\n",
       "11024287  123841    4.0          22997\n",
       "11024288  124184    3.0          22997\n",
       "\n",
       "[11024289 rows x 3 columns]"
      ]
     },
     "execution_count": 10,
     "metadata": {},
     "output_type": "execute_result"
    }
   ],
   "source": [
    "df1"
   ]
  },
  {
   "cell_type": "code",
   "execution_count": 11,
   "metadata": {},
   "outputs": [
    {
     "name": "stdout",
     "output_type": "stream",
     "text": [
      "<class 'pandas.core.frame.DataFrame'>\n",
      "Int64Index: 22998 entries, 0 to 11023810\n",
      "Data columns (total 2 columns):\n",
      " #   Column         Non-Null Count  Dtype \n",
      "---  ------         --------------  ----- \n",
      " 0   id_factorized  22998 non-null  int64 \n",
      " 1   title          22998 non-null  object\n",
      "dtypes: int64(1), object(1)\n",
      "memory usage: 539.0+ KB\n"
     ]
    }
   ],
   "source": [
    "df_title.info()"
   ]
  },
  {
   "cell_type": "code",
   "execution_count": 12,
   "metadata": {},
   "outputs": [
    {
     "data": {
      "text/plain": [
       "115078"
      ]
     },
     "execution_count": 12,
     "metadata": {},
     "output_type": "execute_result"
    }
   ],
   "source": [
    "# Usuarios\n",
    "len(df1['userId'].unique())"
   ]
  },
  {
   "cell_type": "code",
   "execution_count": 13,
   "metadata": {},
   "outputs": [
    {
     "data": {
      "text/html": [
       "<div>\n",
       "<style scoped>\n",
       "    .dataframe tbody tr th:only-of-type {\n",
       "        vertical-align: middle;\n",
       "    }\n",
       "\n",
       "    .dataframe tbody tr th {\n",
       "        vertical-align: top;\n",
       "    }\n",
       "\n",
       "    .dataframe thead th {\n",
       "        text-align: right;\n",
       "    }\n",
       "</style>\n",
       "<table border=\"1\" class=\"dataframe\">\n",
       "  <thead>\n",
       "    <tr style=\"text-align: right;\">\n",
       "      <th></th>\n",
       "      <th>score</th>\n",
       "      <th>id_factorized</th>\n",
       "    </tr>\n",
       "    <tr>\n",
       "      <th>userId</th>\n",
       "      <th></th>\n",
       "      <th></th>\n",
       "    </tr>\n",
       "  </thead>\n",
       "  <tbody>\n",
       "    <tr>\n",
       "      <th>1</th>\n",
       "      <td>27</td>\n",
       "      <td>27</td>\n",
       "    </tr>\n",
       "    <tr>\n",
       "      <th>2</th>\n",
       "      <td>22</td>\n",
       "      <td>22</td>\n",
       "    </tr>\n",
       "    <tr>\n",
       "      <th>3</th>\n",
       "      <td>10</td>\n",
       "      <td>10</td>\n",
       "    </tr>\n",
       "    <tr>\n",
       "      <th>4</th>\n",
       "      <td>62</td>\n",
       "      <td>62</td>\n",
       "    </tr>\n",
       "    <tr>\n",
       "      <th>5</th>\n",
       "      <td>26</td>\n",
       "      <td>26</td>\n",
       "    </tr>\n",
       "  </tbody>\n",
       "</table>\n",
       "</div>"
      ],
      "text/plain": [
       "        score  id_factorized\n",
       "userId                      \n",
       "1          27             27\n",
       "2          22             22\n",
       "3          10             10\n",
       "4          62             62\n",
       "5          26             26"
      ]
     },
     "execution_count": 13,
     "metadata": {},
     "output_type": "execute_result"
    }
   ],
   "source": [
    "# Calificaciones de películas por usuario\n",
    "df1_by_users = df1.groupby(['userId']).count()\n",
    "df1_by_users.head()"
   ]
  },
  {
   "cell_type": "code",
   "execution_count": 14,
   "metadata": {},
   "outputs": [
    {
     "data": {
      "text/html": [
       "<div>\n",
       "<style scoped>\n",
       "    .dataframe tbody tr th:only-of-type {\n",
       "        vertical-align: middle;\n",
       "    }\n",
       "\n",
       "    .dataframe tbody tr th {\n",
       "        vertical-align: top;\n",
       "    }\n",
       "\n",
       "    .dataframe thead th {\n",
       "        text-align: right;\n",
       "    }\n",
       "</style>\n",
       "<table border=\"1\" class=\"dataframe\">\n",
       "  <thead>\n",
       "    <tr style=\"text-align: right;\">\n",
       "      <th></th>\n",
       "      <th>userId</th>\n",
       "      <th>score</th>\n",
       "    </tr>\n",
       "    <tr>\n",
       "      <th>id_factorized</th>\n",
       "      <th></th>\n",
       "      <th></th>\n",
       "    </tr>\n",
       "  </thead>\n",
       "  <tbody>\n",
       "    <tr>\n",
       "      <th>0</th>\n",
       "      <td>502</td>\n",
       "      <td>502</td>\n",
       "    </tr>\n",
       "    <tr>\n",
       "      <th>1</th>\n",
       "      <td>493</td>\n",
       "      <td>493</td>\n",
       "    </tr>\n",
       "    <tr>\n",
       "      <th>2</th>\n",
       "      <td>422</td>\n",
       "      <td>422</td>\n",
       "    </tr>\n",
       "    <tr>\n",
       "      <th>3</th>\n",
       "      <td>473</td>\n",
       "      <td>473</td>\n",
       "    </tr>\n",
       "    <tr>\n",
       "      <th>4</th>\n",
       "      <td>476</td>\n",
       "      <td>476</td>\n",
       "    </tr>\n",
       "  </tbody>\n",
       "</table>\n",
       "</div>"
      ],
      "text/plain": [
       "               userId  score\n",
       "id_factorized               \n",
       "0                 502    502\n",
       "1                 493    493\n",
       "2                 422    422\n",
       "3                 473    473\n",
       "4                 476    476"
      ]
     },
     "execution_count": 14,
     "metadata": {},
     "output_type": "execute_result"
    }
   ],
   "source": [
    "#conteo de calificaciones por pelicula/serie\n",
    "df1_by_movies = df1.groupby(['id_factorized']).count()\n",
    "df1_by_movies.head()"
   ]
  },
  {
   "cell_type": "code",
   "execution_count": 15,
   "metadata": {},
   "outputs": [
    {
     "data": {
      "text/html": [
       "<div>\n",
       "<style scoped>\n",
       "    .dataframe tbody tr th:only-of-type {\n",
       "        vertical-align: middle;\n",
       "    }\n",
       "\n",
       "    .dataframe tbody tr th {\n",
       "        vertical-align: top;\n",
       "    }\n",
       "\n",
       "    .dataframe thead th {\n",
       "        text-align: right;\n",
       "    }\n",
       "</style>\n",
       "<table border=\"1\" class=\"dataframe\">\n",
       "  <thead>\n",
       "    <tr style=\"text-align: right;\">\n",
       "      <th></th>\n",
       "      <th>title</th>\n",
       "    </tr>\n",
       "    <tr>\n",
       "      <th>id_factorized</th>\n",
       "      <th></th>\n",
       "    </tr>\n",
       "  </thead>\n",
       "  <tbody>\n",
       "    <tr>\n",
       "      <th>0</th>\n",
       "      <td>the grand seduction</td>\n",
       "    </tr>\n",
       "    <tr>\n",
       "      <th>1</th>\n",
       "      <td>take care good night</td>\n",
       "    </tr>\n",
       "    <tr>\n",
       "      <th>2</th>\n",
       "      <td>secrets of deception</td>\n",
       "    </tr>\n",
       "    <tr>\n",
       "      <th>3</th>\n",
       "      <td>pink: staying true</td>\n",
       "    </tr>\n",
       "    <tr>\n",
       "      <th>4</th>\n",
       "      <td>monster maker</td>\n",
       "    </tr>\n",
       "  </tbody>\n",
       "</table>\n",
       "</div>"
      ],
      "text/plain": [
       "                              title\n",
       "id_factorized                      \n",
       "0               the grand seduction\n",
       "1              take care good night\n",
       "2              secrets of deception\n",
       "3                pink: staying true\n",
       "4                     monster maker"
      ]
     },
     "execution_count": 15,
     "metadata": {},
     "output_type": "execute_result"
    }
   ],
   "source": [
    "df_title = df_title.set_index('id_factorized')\n",
    "df_title.head()"
   ]
  },
  {
   "cell_type": "code",
   "execution_count": 16,
   "metadata": {},
   "outputs": [
    {
     "name": "stdout",
     "output_type": "stream",
     "text": [
      "from other worlds\n"
     ]
    }
   ],
   "source": [
    "#titulo mas calificado\n",
    "idx_max = df1_by_movies['userId'].idxmax()\n",
    "print(df_title.loc[idx_max].title)"
   ]
  },
  {
   "cell_type": "code",
   "execution_count": 17,
   "metadata": {},
   "outputs": [
    {
     "data": {
      "text/html": [
       "<div>\n",
       "<style scoped>\n",
       "    .dataframe tbody tr th:only-of-type {\n",
       "        vertical-align: middle;\n",
       "    }\n",
       "\n",
       "    .dataframe tbody tr th {\n",
       "        vertical-align: top;\n",
       "    }\n",
       "\n",
       "    .dataframe thead th {\n",
       "        text-align: right;\n",
       "    }\n",
       "</style>\n",
       "<table border=\"1\" class=\"dataframe\">\n",
       "  <thead>\n",
       "    <tr style=\"text-align: right;\">\n",
       "      <th></th>\n",
       "      <th>Vistos</th>\n",
       "    </tr>\n",
       "    <tr>\n",
       "      <th>id_factorized</th>\n",
       "      <th></th>\n",
       "    </tr>\n",
       "  </thead>\n",
       "  <tbody>\n",
       "    <tr>\n",
       "      <th>4196</th>\n",
       "      <td>576</td>\n",
       "    </tr>\n",
       "    <tr>\n",
       "      <th>9064</th>\n",
       "      <td>560</td>\n",
       "    </tr>\n",
       "    <tr>\n",
       "      <th>21469</th>\n",
       "      <td>558</td>\n",
       "    </tr>\n",
       "    <tr>\n",
       "      <th>847</th>\n",
       "      <td>558</td>\n",
       "    </tr>\n",
       "    <tr>\n",
       "      <th>6997</th>\n",
       "      <td>556</td>\n",
       "    </tr>\n",
       "    <tr>\n",
       "      <th>9468</th>\n",
       "      <td>556</td>\n",
       "    </tr>\n",
       "    <tr>\n",
       "      <th>13477</th>\n",
       "      <td>556</td>\n",
       "    </tr>\n",
       "    <tr>\n",
       "      <th>4888</th>\n",
       "      <td>554</td>\n",
       "    </tr>\n",
       "    <tr>\n",
       "      <th>11699</th>\n",
       "      <td>554</td>\n",
       "    </tr>\n",
       "    <tr>\n",
       "      <th>16037</th>\n",
       "      <td>553</td>\n",
       "    </tr>\n",
       "  </tbody>\n",
       "</table>\n",
       "</div>"
      ],
      "text/plain": [
       "               Vistos\n",
       "id_factorized        \n",
       "4196              576\n",
       "9064              560\n",
       "21469             558\n",
       "847               558\n",
       "6997              556\n",
       "9468              556\n",
       "13477             556\n",
       "4888              554\n",
       "11699             554\n",
       "16037             553"
      ]
     },
     "execution_count": 17,
     "metadata": {},
     "output_type": "execute_result"
    }
   ],
   "source": [
    "#Cantidad de vistas de cada serie/pelicula\n",
    "df1_by_movies = df1.groupby(['id_factorized']).count()\n",
    "df1_by_movies.sort_values('userId', ascending = False, inplace = True)\n",
    "df1_by_movies['Vistos'] = df1_by_movies['userId']\n",
    "df1_by_movies.drop(columns = ['userId','score'], inplace = True)\n",
    "df1_by_movies.head(10)"
   ]
  },
  {
   "cell_type": "code",
   "execution_count": 18,
   "metadata": {},
   "outputs": [
    {
     "data": {
      "text/html": [
       "<div>\n",
       "<style scoped>\n",
       "    .dataframe tbody tr th:only-of-type {\n",
       "        vertical-align: middle;\n",
       "    }\n",
       "\n",
       "    .dataframe tbody tr th {\n",
       "        vertical-align: top;\n",
       "    }\n",
       "\n",
       "    .dataframe thead th {\n",
       "        text-align: right;\n",
       "    }\n",
       "</style>\n",
       "<table border=\"1\" class=\"dataframe\">\n",
       "  <thead>\n",
       "    <tr style=\"text-align: right;\">\n",
       "      <th></th>\n",
       "      <th>Vistos</th>\n",
       "      <th>Titulo</th>\n",
       "    </tr>\n",
       "    <tr>\n",
       "      <th>id_factorized</th>\n",
       "      <th></th>\n",
       "      <th></th>\n",
       "    </tr>\n",
       "  </thead>\n",
       "  <tbody>\n",
       "    <tr>\n",
       "      <th>4196</th>\n",
       "      <td>576</td>\n",
       "      <td>from other worlds</td>\n",
       "    </tr>\n",
       "    <tr>\n",
       "      <th>9064</th>\n",
       "      <td>560</td>\n",
       "      <td>the organization</td>\n",
       "    </tr>\n",
       "    <tr>\n",
       "      <th>21469</th>\n",
       "      <td>558</td>\n",
       "      <td>leapfrog: sing-along, read-along</td>\n",
       "    </tr>\n",
       "    <tr>\n",
       "      <th>847</th>\n",
       "      <td>558</td>\n",
       "      <td>superbook</td>\n",
       "    </tr>\n",
       "    <tr>\n",
       "      <th>6997</th>\n",
       "      <td>556</td>\n",
       "      <td>sideways</td>\n",
       "    </tr>\n",
       "  </tbody>\n",
       "</table>\n",
       "</div>"
      ],
      "text/plain": [
       "               Vistos                            Titulo\n",
       "id_factorized                                          \n",
       "4196              576                 from other worlds\n",
       "9064              560                  the organization\n",
       "21469             558  leapfrog: sing-along, read-along\n",
       "847               558                         superbook\n",
       "6997              556                          sideways"
      ]
     },
     "execution_count": 18,
     "metadata": {},
     "output_type": "execute_result"
    }
   ],
   "source": [
    "#agrego el titulo a cada fila segun su id\n",
    "df1_by_movies['Titulo'] = df_title.loc[df1_by_movies.index].title\n",
    "df1_by_movies.head()"
   ]
  },
  {
   "cell_type": "code",
   "execution_count": 22,
   "metadata": {},
   "outputs": [
    {
     "name": "stdout",
     "output_type": "stream",
     "text": [
      "60 [16489 18413  7667  1623  1461 14376 20332 17476 11901  9872  4551 22282\n",
      " 15775 20761  3788  9651  8278  6179 10294  1378  3368 19127  2227 22197\n",
      "  7585  4564  9146   212 13389  9144 17249  2860  9050  9753  6317  6018\n",
      " 13336 12083  7571 20273 15350  9594  5304  6123 17808 13316 21920 19415\n",
      " 13782 20476  3716 10373 15443 19949 10449 11716 20725 12828 16334  4939]\n"
     ]
    }
   ],
   "source": [
    "#filtro peliculas que consifero que se vieron poco en funcion de los datos\n",
    "umbral = 420\n",
    "mascara_pocos_vistos = df1_by_movies.Vistos<umbral\n",
    "peliculas_pocos_vistos = mascara_pocos_vistos[mascara_pocos_vistos].index.values\n",
    "print(len(peliculas_pocos_vistos), peliculas_pocos_vistos)\n",
    "mascara_descartables = df1.id_factorized.isin(peliculas_pocos_vistos)\n"
   ]
  },
  {
   "cell_type": "code",
   "execution_count": 23,
   "metadata": {},
   "outputs": [
    {
     "name": "stdout",
     "output_type": "stream",
     "text": [
      "(11024289, 3)\n",
      "(10999535, 3)\n"
     ]
    }
   ],
   "source": [
    "# Obsevamos cómo cambia la cantidad de registros a partir del filtrado\n",
    "print(df1.shape)\n",
    "df1 = df1[~mascara_descartables]\n",
    "print(df1.shape)"
   ]
  },
  {
   "attachments": {},
   "cell_type": "markdown",
   "metadata": {},
   "source": [
    "# Empiezamos con el modelo de recomendacion"
   ]
  },
  {
   "cell_type": "code",
   "execution_count": 25,
   "metadata": {},
   "outputs": [],
   "source": [
    "\n",
    "reader = Reader()\n",
    "N_filas = 200000 # Limitamos el dataset a N_filas\n",
    "data = Dataset.load_from_df(df1[['userId', 'id_factorized', 'score']][:N_filas], reader)\n"
   ]
  },
  {
   "cell_type": "code",
   "execution_count": 26,
   "metadata": {},
   "outputs": [],
   "source": [
    "# Separamos nuestros datos\n",
    "trainset, testset = train_test_split(data, test_size=.25)\n"
   ]
  },
  {
   "cell_type": "code",
   "execution_count": 27,
   "metadata": {},
   "outputs": [],
   "source": [
    "# Usaremos un modelo de Singular Value Decomposition\n",
    "model = SVD()"
   ]
  },
  {
   "cell_type": "code",
   "execution_count": 29,
   "metadata": {},
   "outputs": [
    {
     "data": {
      "text/plain": [
       "<surprise.prediction_algorithms.matrix_factorization.SVD at 0xa77e7b2f80>"
      ]
     },
     "execution_count": 29,
     "metadata": {},
     "output_type": "execute_result"
    }
   ],
   "source": [
    "# Entrenamos el modelo\n",
    "model.fit(trainset)"
   ]
  },
  {
   "cell_type": "code",
   "execution_count": 30,
   "metadata": {},
   "outputs": [
    {
     "data": {
      "text/plain": [
       "Prediction(uid=267143, iid=318, r_ui=5.0, est=3.9096877346449994, details={'was_impossible': False})"
      ]
     },
     "execution_count": 30,
     "metadata": {},
     "output_type": "execute_result"
    }
   ],
   "source": [
    "# Predecimos\n",
    "predictions = model.test(testset)\n",
    "predictions[1]"
   ]
  },
  {
   "cell_type": "code",
   "execution_count": 31,
   "metadata": {},
   "outputs": [
    {
     "data": {
      "text/plain": [
       "Prediction(uid=1328945, iid=28, r_ui=None, est=3.516103595569879, details={'was_impossible': False})"
      ]
     },
     "execution_count": 31,
     "metadata": {},
     "output_type": "execute_result"
    }
   ],
   "source": [
    "# Hacemos una predicción al azar para usuario y película\n",
    "model.predict(1328945,28)"
   ]
  },
  {
   "cell_type": "code",
   "execution_count": 32,
   "metadata": {},
   "outputs": [
    {
     "name": "stdout",
     "output_type": "stream",
     "text": [
      "3.533443004636105\n"
     ]
    }
   ],
   "source": [
    "#obtengo el promedio total de los scores \n",
    "promedio_score = df1['score'].mean()\n",
    "print(promedio_score)"
   ]
  },
  {
   "cell_type": "code",
   "execution_count": 33,
   "metadata": {},
   "outputs": [],
   "source": [
    "#creo una funcion que recomiende o no ver una pelicula en funcion del score promedio y del score predicho por el modelo para ese usuario y esa pelicula\n",
    "\n",
    "def recomendar_pelicula(id_usuario, id_pelicula, model):\n",
    "    # Realizar la predicción para el usuario y la película dados\n",
    "    prediction = model.predict(id_usuario, id_pelicula)\n",
    "        # Obtener la valoración media del usuario para todas las películas que ha visto\n",
    "    media_usuario = np.array(trainset.ur[trainset.to_inner_uid(id_usuario)])\n",
    "        # Obtener el título de la película\n",
    "    titulo_pelicula = df_title.loc[id_pelicula].title\n",
    "        # Verificar si la valoración de la película es mayor que la media del usuario\n",
    "    if prediction.est >3.54:\n",
    "        return f\"Se recomienda ver la película {titulo_pelicula}.\"\n",
    "    else:\n",
    "        return f\"No se recomienda ver la película {titulo_pelicula}.\"\n",
    "    "
   ]
  },
  {
   "cell_type": "code",
   "execution_count": 34,
   "metadata": {},
   "outputs": [
    {
     "data": {
      "text/plain": [
       "'Se recomienda ver la película world’s toughest race: eco-challenge fiji.'"
      ]
     },
     "execution_count": 34,
     "metadata": {},
     "output_type": "execute_result"
    }
   ],
   "source": [
    "#realizo una recomendacion al azar\n",
    "recomendar_pelicula(46453,66,model)"
   ]
  },
  {
   "cell_type": "code",
   "execution_count": 43,
   "metadata": {},
   "outputs": [
    {
     "name": "stdout",
     "output_type": "stream",
     "text": [
      "(22860, 1)\n"
     ]
    },
    {
     "data": {
      "text/html": [
       "<div>\n",
       "<style scoped>\n",
       "    .dataframe tbody tr th:only-of-type {\n",
       "        vertical-align: middle;\n",
       "    }\n",
       "\n",
       "    .dataframe tbody tr th {\n",
       "        vertical-align: top;\n",
       "    }\n",
       "\n",
       "    .dataframe thead th {\n",
       "        text-align: right;\n",
       "    }\n",
       "</style>\n",
       "<table border=\"1\" class=\"dataframe\">\n",
       "  <thead>\n",
       "    <tr style=\"text-align: right;\">\n",
       "      <th></th>\n",
       "      <th>title</th>\n",
       "    </tr>\n",
       "    <tr>\n",
       "      <th>id_factorized</th>\n",
       "      <th></th>\n",
       "    </tr>\n",
       "  </thead>\n",
       "  <tbody>\n",
       "    <tr>\n",
       "      <th>0</th>\n",
       "      <td>the grand seduction</td>\n",
       "    </tr>\n",
       "    <tr>\n",
       "      <th>1</th>\n",
       "      <td>take care good night</td>\n",
       "    </tr>\n",
       "    <tr>\n",
       "      <th>2</th>\n",
       "      <td>secrets of deception</td>\n",
       "    </tr>\n",
       "    <tr>\n",
       "      <th>3</th>\n",
       "      <td>pink: staying true</td>\n",
       "    </tr>\n",
       "    <tr>\n",
       "      <th>4</th>\n",
       "      <td>monster maker</td>\n",
       "    </tr>\n",
       "  </tbody>\n",
       "</table>\n",
       "</div>"
      ],
      "text/plain": [
       "                              title\n",
       "id_factorized                      \n",
       "0               the grand seduction\n",
       "1              take care good night\n",
       "2              secrets of deception\n",
       "3                pink: staying true\n",
       "4                     monster maker"
      ]
     },
     "execution_count": 43,
     "metadata": {},
     "output_type": "execute_result"
    }
   ],
   "source": [
    "# Tomaremos un usuario para hacerle una recomendación\n",
    "usuario = 46453\n",
    "rating = 4   # Tomamos películas a las que haya calificado con 4 o 5 estrellas\n",
    "df_user = df1[(df1['userId'] == usuario) & (df1['score'] >= rating)]\n",
    "df_user = df_user.reset_index(drop=True)\n",
    "df_user['Name'] = df_title['title'].loc[df_user.id_factorized].values\n",
    "df_user\n",
    "recomendaciones_usuario = df_title.iloc[:22860].copy()\n",
    "print(recomendaciones_usuario.shape)\n",
    "recomendaciones_usuario.head()"
   ]
  },
  {
   "cell_type": "code",
   "execution_count": 44,
   "metadata": {},
   "outputs": [
    {
     "name": "stdout",
     "output_type": "stream",
     "text": [
      "(43, 3)\n"
     ]
    }
   ],
   "source": [
    "# Debemos extraer las películas que ya ha visto\n",
    "usuario_vistas = df1[df1['userId'] == usuario]\n",
    "print(usuario_vistas.shape)\n",
    "usuario_vistas.head()\n",
    "if True: # Sacamos las que filtramos\n",
    "    recomendaciones_usuario.drop(peliculas_pocos_vistos, inplace = True)\n",
    "recomendaciones_usuario.drop(usuario_vistas.id_factorized, inplace = True)\n",
    "recomendaciones_usuario = recomendaciones_usuario.reset_index()\n"
   ]
  },
  {
   "cell_type": "code",
   "execution_count": 45,
   "metadata": {},
   "outputs": [
    {
     "data": {
      "text/html": [
       "<div>\n",
       "<style scoped>\n",
       "    .dataframe tbody tr th:only-of-type {\n",
       "        vertical-align: middle;\n",
       "    }\n",
       "\n",
       "    .dataframe tbody tr th {\n",
       "        vertical-align: top;\n",
       "    }\n",
       "\n",
       "    .dataframe thead th {\n",
       "        text-align: right;\n",
       "    }\n",
       "</style>\n",
       "<table border=\"1\" class=\"dataframe\">\n",
       "  <thead>\n",
       "    <tr style=\"text-align: right;\">\n",
       "      <th></th>\n",
       "      <th>id_factorized</th>\n",
       "      <th>title</th>\n",
       "    </tr>\n",
       "  </thead>\n",
       "  <tbody>\n",
       "    <tr>\n",
       "      <th>0</th>\n",
       "      <td>0</td>\n",
       "      <td>the grand seduction</td>\n",
       "    </tr>\n",
       "    <tr>\n",
       "      <th>1</th>\n",
       "      <td>1</td>\n",
       "      <td>take care good night</td>\n",
       "    </tr>\n",
       "    <tr>\n",
       "      <th>2</th>\n",
       "      <td>2</td>\n",
       "      <td>secrets of deception</td>\n",
       "    </tr>\n",
       "    <tr>\n",
       "      <th>3</th>\n",
       "      <td>3</td>\n",
       "      <td>pink: staying true</td>\n",
       "    </tr>\n",
       "    <tr>\n",
       "      <th>4</th>\n",
       "      <td>4</td>\n",
       "      <td>monster maker</td>\n",
       "    </tr>\n",
       "  </tbody>\n",
       "</table>\n",
       "</div>"
      ],
      "text/plain": [
       "   id_factorized                 title\n",
       "0              0   the grand seduction\n",
       "1              1  take care good night\n",
       "2              2  secrets of deception\n",
       "3              3    pink: staying true\n",
       "4              4         monster maker"
      ]
     },
     "execution_count": 45,
     "metadata": {},
     "output_type": "execute_result"
    }
   ],
   "source": [
    "recomendaciones_usuario.head()"
   ]
  },
  {
   "cell_type": "code",
   "execution_count": 47,
   "metadata": {},
   "outputs": [],
   "source": [
    "# Recomendamos\n",
    "recomendaciones_usuario['Estimate_Score'] = recomendaciones_usuario['id_factorized'].apply(lambda x: model.predict(usuario, x).est)\n"
   ]
  },
  {
   "cell_type": "code",
   "execution_count": 48,
   "metadata": {},
   "outputs": [
    {
     "name": "stdout",
     "output_type": "stream",
     "text": [
      "     id_factorized                        title  Estimate_Score\n",
      "215            217                   undocument        4.299041\n",
      "137            138                welliewishers        4.211663\n",
      "306            308             tom gleeson: joy        4.182833\n",
      "359            361                   this is me        4.144778\n",
      "187            188               victorian farm        4.133598\n",
      "337            339           ticket to paradise        4.122331\n",
      "143            144  we need to talk about kevin        4.114029\n",
      "245            247                    tutu town        4.102747\n",
      "78              79               women of valor        4.100936\n",
      "13              13                   resilencia        4.096175\n"
     ]
    }
   ],
   "source": [
    "#Obtengo como resultado una lista de titulos con los score estimados para este usuarios ordenados de mayor a menor\n",
    "recomendaciones_usuario = recomendaciones_usuario.sort_values('Estimate_Score', ascending=False)\n",
    "print(recomendaciones_usuario.head(10))"
   ]
  }
 ],
 "metadata": {
  "kernelspec": {
   "display_name": "Python 3",
   "language": "python",
   "name": "python3"
  },
  "language_info": {
   "codemirror_mode": {
    "name": "ipython",
    "version": 3
   },
   "file_extension": ".py",
   "mimetype": "text/x-python",
   "name": "python",
   "nbconvert_exporter": "python",
   "pygments_lexer": "ipython3",
   "version": "3.10.10"
  },
  "orig_nbformat": 4
 },
 "nbformat": 4,
 "nbformat_minor": 2
}
